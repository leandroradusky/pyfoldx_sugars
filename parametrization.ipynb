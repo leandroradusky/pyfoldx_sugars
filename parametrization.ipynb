{
 "cells": [
  {
   "cell_type": "markdown",
   "metadata": {},
   "source": [
    "## Previous steps:\n",
    "\n",
    "Before executing the parameterization code, there are some things to take into account:\n",
    "\n",
    "1. In the original email, the structure `cbm2-WT-v3.pdb` had some problems: mixed names between chains `A` and `X`, `TER` lines where they do not correspond, etc.\n",
    "\n",
    "I've cleaned the structure of the unnecesary `TER` lines, homogeneized the chains and `Repaired` it with Foldx. This is not shown here but a complete tutorial on how to do this can be found (here)[https://github.com/leandroradusky/pyFoldX/blob/master/notebooks/StructureUsage.ipynb] (Repairing a Structure section).\n",
    "\n",
    "2. I have put the repaired structure with the sugar in `data/cbm2-WT-v3_Repair.pdb` and without it in `data/cbm2-WT-v3_NoSugar.pdb`.\n",
    "\n",
    "3. I've put the big sugar in a separate file, `sugar.pdb` with all the lines to parameterize it one monosaccharide a time.\n",
    "\n",
    "Let's start!"
   ]
  },
  {
   "cell_type": "code",
   "execution_count": 1,
   "metadata": {},
   "outputs": [],
   "source": [
    "# Some pyFoldX imports\n",
    "from pyfoldx.handlers.fileHandler import FileHandler\n",
    "from pyfoldx.structure import Structure\n",
    "from pyfoldx.paramx import parameterize, JSonMolecule"
   ]
  },
  {
   "cell_type": "markdown",
   "metadata": {},
   "source": [
    "## Parameterizing the monosaccharide 0GA"
   ]
  },
  {
   "cell_type": "code",
   "execution_count": 2,
   "metadata": {},
   "outputs": [],
   "source": [
    "# We load the structure of the whole sugar\n",
    "st = Structure(\"sugar\", path=\"data/sugar.pdb\")"
   ]
  },
  {
   "cell_type": "code",
   "execution_count": 3,
   "metadata": {},
   "outputs": [
    {
     "name": "stdout",
     "output_type": "stream",
     "text": [
      "Residue(0GA,8,A,False)\n",
      "Residue(0GA,9,A,False)\n"
     ]
    }
   ],
   "source": [
    "# Identifying 0GA Residues\n",
    "for chain in st.data.keys():\n",
    "    for residue in st.data[chain]:\n",
    "        #print( st.data[chain][residue].code )\n",
    "        if st.data[chain][residue].code == \"0GA\":\n",
    "            print( st.data[chain][residue] )"
   ]
  },
  {
   "cell_type": "code",
   "execution_count": 4,
   "metadata": {},
   "outputs": [],
   "source": [
    "# We keep the lines of one 0GA residue\n",
    "lines_0GA = st.data[\"A\"][8].toPdb().split(\"\\n\")"
   ]
  },
  {
   "cell_type": "code",
   "execution_count": 5,
   "metadata": {},
   "outputs": [
    {
     "data": {
      "text/plain": [
       "['ATOM   3161  O5  0GA A   8      10.175  48.870  30.962  1.00  0.12           O  ',\n",
       " 'ATOM   3162  C6  0GA A   8       7.996  48.015  31.639  1.00 -0.06           C  ',\n",
       " 'ATOM   3163  O6  0GA A   8       8.158  47.624  30.271  1.00  0.11           O  ',\n",
       " 'ATOM   3164  C3  0GA A   8       9.922  51.357  32.401  1.00 -0.08           C  ',\n",
       " 'ATOM   3165  C2  0GA A   8      11.091  51.113  31.430  1.00 -0.10           C  ',\n",
       " 'ATOM   3166  C1  0GA A   8      11.430  49.624  31.175  1.00 -0.12           C  ',\n",
       " 'ATOM   3167  O4  0GA A   8       7.791  50.589  33.199  1.00  0.12           O  ',\n",
       " 'ATOM   3168  O3  0GA A   8       9.502  52.725  32.242  1.00  0.19           O  ',\n",
       " 'ATOM   3169  O2  0GA A   8      12.235  51.794  31.974  1.00  0.22           O  ',\n",
       " 'ATOM   3170  C5  0GA A   8       9.135  48.975  32.011  1.00 -0.06           C  ',\n",
       " 'ATOM   3171  C4  0GA A   8       8.717  50.452  32.108  1.00 -0.06           C  ']"
      ]
     },
     "execution_count": 5,
     "metadata": {},
     "output_type": "execute_result"
    }
   ],
   "source": [
    "lines_0GA"
   ]
  },
  {
   "cell_type": "markdown",
   "metadata": {},
   "source": [
    "## Important\n",
    "\n",
    "In the original parameterization, pyFoldX didn't existed yet. In the `data` folder I've left the mappings that I've used to parameterize the molecules then. Now, pyFoldX have names to parameterize and don't have to choose complicated names.\n",
    "\n",
    "You can take a look at all the atoms in the supplementary material of the pyFoldX paper, but the names are these: O_hydroxyl, O_ring, O_minus, O_carboxamide, N_amino, N_guanidino, N_imidazol_plus, N_imidazol_minus, N_pyrazole, N_amide, C_ring_not_arom, C_single_link, C_double_link, C_triple_link.\n",
    "\n",
    "Given these names and how the molecule looks like, these are the mappings:"
   ]
  },
  {
   "cell_type": "code",
   "execution_count": 6,
   "metadata": {},
   "outputs": [],
   "source": [
    "atomMappingsDict = {\"O5\":\"O_ring\",\n",
    "                    \"C6\":\"C_single_link\",\n",
    "                    \"O6\":\"O_hydroxyl\",\n",
    "                    \"C3\":\"C_ring_not_arom\",\n",
    "                    \"C2\":\"C_ring_not_arom\",\n",
    "                    \"C1\":\"C_ring_not_arom\",\n",
    "                    \"O4\":\"O_hydroxyl\",\n",
    "                    \"O3\":\"O_hydroxyl\",\n",
    "                    \"O2\":\"O_hydroxyl\",\n",
    "                    \"C5\":\"C_ring_not_arom\",\n",
    "                    \"C4\":\"C_ring_not_arom\",\n",
    "                    }"
   ]
  },
  {
   "cell_type": "code",
   "execution_count": 7,
   "metadata": {},
   "outputs": [
    {
     "name": "stdout",
     "output_type": "stream",
     "text": [
      "Mappings loaded:\n",
      "Atom O5 mapped to atom ('O4*', 'A')\n",
      "Atom C6 mapped to atom ('CG2', 'THR')\n",
      "Atom O6 mapped to atom ('OG', 'SER')\n",
      "Atom C3 mapped to atom ('CG', 'PRO')\n",
      "Atom C2 mapped to atom ('CG', 'PRO')\n",
      "Atom C1 mapped to atom ('CG', 'PRO')\n",
      "Atom O4 mapped to atom ('OG', 'SER')\n",
      "Atom O3 mapped to atom ('OG', 'SER')\n",
      "Atom O2 mapped to atom ('OG', 'SER')\n",
      "Atom C5 mapped to atom ('CG', 'PRO')\n",
      "Atom C4 mapped to atom ('CG', 'PRO')\n"
     ]
    }
   ],
   "source": [
    "# Now we can parameterize the molecule\n",
    "newMol = parameterize( lines_0GA, atomMappingsDict )"
   ]
  },
  {
   "cell_type": "code",
   "execution_count": 8,
   "metadata": {},
   "outputs": [
    {
     "data": {
      "text/plain": [
       "True"
      ]
     },
     "execution_count": 8,
     "metadata": {},
     "output_type": "execute_result"
    }
   ],
   "source": [
    "# And we can save it to a file in the molecules folder (important that is there)\n",
    "FileHandler.writeLine(\"molecules/0GA.json\", newMol.toJson())\n"
   ]
  },
  {
   "cell_type": "markdown",
   "metadata": {},
   "source": [
    "### Note!! \n",
    "\n",
    "Here I'm just parameterizing one monosacharide, 0GA. You have all the lists that I've used in the `data` folder. I didn't have time to parameterize them all since I have to see all the mappings. This means that in the following code, what FoldX will see is only this monosaccaride. To make foldX recognize the whole sugar you will have to repeat this process with all the monosaccharides!!"
   ]
  },
  {
   "cell_type": "markdown",
   "metadata": {},
   "source": [
    "## Computing the ddGs\n",
    "\n",
    "(In this section, I'm having trouble in my local... If I execute this very lines in the python console it works good, I think is a setting related to the jupyter notebooks, I will see what happens. )\n",
    "\n",
    "Said this, you can compute energies as follows:"
   ]
  },
  {
   "cell_type": "code",
   "execution_count": 18,
   "metadata": {},
   "outputs": [],
   "source": [
    "# Load the binded structure\n",
    "st_protein_binded = Structure(\"cbm2\", path=\"data/cbm2-WT-v3_Repair.pdb\")"
   ]
  },
  {
   "cell_type": "code",
   "execution_count": 10,
   "metadata": {},
   "outputs": [],
   "source": [
    "# Load the non-binded structure\n",
    "st_protein_not_binded = Structure(\"cbm2\", path=\"data/cbm2-WT-v3_Repair.pdb\")"
   ]
  },
  {
   "cell_type": "code",
   "execution_count": null,
   "metadata": {},
   "outputs": [],
   "source": [
    "# Mutate the binded structure. The number of runs return just one try, but if you run more you will get better results\n",
    "# the mutations (1 or more) are returned in an ensemble object. See the pyfoldx documentation for more information\n",
    "# But the thing you are interested in is the energy, which is a pandas dataframe containing the energy of run.\n",
    "energies, mutBindedEnsemble, wtBindedEnsemble = st_protein_binded.mutate(mutations=\"DX121L;\", number_of_runs=1)"
   ]
  },
  {
   "cell_type": "markdown",
   "metadata": {},
   "source": [
    "### Note!!\n",
    "\n",
    "This example is valid for the mutation DX121L. Residue D, in the chain X, at pos 121, mutated to L.\n",
    "\n",
    "You will have to run the same for several mutations. To make double mutations just separate them by comma: D121L, D122L."
   ]
  },
  {
   "cell_type": "code",
   "execution_count": null,
   "metadata": {},
   "outputs": [],
   "source": [
    "# Doing the same with the non-binded structure\n",
    "energies, mutNotBindedEnsemble, wtNotBindedEnsemble = st_protein_not_binded.mutate(mutations=\"DX121L;\")"
   ]
  },
  {
   "cell_type": "code",
   "execution_count": null,
   "metadata": {},
   "outputs": [],
   "source": [
    "# You can get the total energy of the mutation in the binded structure like this.\n",
    "mutBindedEnsemble.getTotalEnergy().total[0]"
   ]
  },
  {
   "cell_type": "code",
   "execution_count": null,
   "metadata": {},
   "outputs": [],
   "source": [
    "# And then the same for the non-binded structure\n",
    "mutNotBindedEnsemble.getTotalEnergy().total[0]"
   ]
  },
  {
   "cell_type": "code",
   "execution_count": null,
   "metadata": {},
   "outputs": [],
   "source": [
    "# Substracting these two, you can have the ddG for this single mutation"
   ]
  }
 ],
 "metadata": {
  "kernelspec": {
   "display_name": "Python 3",
   "language": "python",
   "name": "python3"
  },
  "language_info": {
   "codemirror_mode": {
    "name": "ipython",
    "version": 3
   },
   "file_extension": ".py",
   "mimetype": "text/x-python",
   "name": "python",
   "nbconvert_exporter": "python",
   "pygments_lexer": "ipython3",
   "version": "3.8.10"
  },
  "orig_nbformat": 4
 },
 "nbformat": 4,
 "nbformat_minor": 2
}
